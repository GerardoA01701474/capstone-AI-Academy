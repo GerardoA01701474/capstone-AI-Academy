{
 "cells": [
  {
   "cell_type": "code",
   "execution_count": null,
   "metadata": {},
   "outputs": [],
   "source": [
    "# -*- coding: utf-8 -*-\n",
    "\"\"\"\n",
    "Spyder Editor\n",
    "\n",
    "This is a temporary script file.\n",
    "\"\"\"\n",
    "\n",
    "import numpy as np\n",
    "import pandas as pd\n",
    "import matplotlib.pyplot as plt\n",
    "from sklearn import preprocessing, svm\n",
    "from sklearn.preprocessing import MaxAbsScaler\n",
    "from sklearn.linear_model import LogisticRegression, Ridge, Lasso\n",
    "from sklearn.model_selection import train_test_split, cross_val_score, learning_curve\n",
    "from sklearn.metrics import accuracy_score\n",
    "from sklearn.metrics import explained_variance_score, mean_squared_error, confusion_matrix\n",
    "from sklearn.ensemble import GradientBoostingClassifier\n",
    "\n",
    "\n",
    "\n",
    "data = pd.read_csv('breastCancer.csv')\n",
    "data = data[data['bare_nucleoli']!='?']\n",
    "data['bare_nucleoli'] = data['bare_nucleoli'].astype(int)\n",
    "data.drop(['mitoses', 'id'], axis=1, inplace=True)\n",
    "df_x = data[['clump_thickness', 'size_uniformity', 'shape_uniformity',\n",
    "       'marginal_adhesion', 'epithelial_size', 'bare_nucleoli',\n",
    "       'bland_chromatin', 'normal_nucleoli']] \n",
    "\n",
    "df_y = data[\"class\"]\n",
    "########################### splitting data into train and test ###############################\n",
    "Xtrain, Xtest, ytrain, ytest = train_test_split(df_x.values, df_y.values,random_state=1, )\n",
    "model = LogisticRegression(fit_intercept = True)\n",
    "model.fit(Xtrain,ytrain)\n",
    "pred_y = model.predict(Xtest)\n",
    "acc = accuracy_score(ytest, pred_y)\n",
    "print(\"accuracy of the model: \"+ str(acc))\n",
    "print(\"score of the cross validation: \" + str(cross_val_score(model,df_x,df_y, cv=10).mean()))\n",
    "print(\"Matrix of confusion: \\n\" + str(confusion_matrix(ytest, pred_y)))\n",
    "\n",
    "clf = GradientBoostingClassifier(n_estimators=300, learning_rate=0.1, max_depth=4, random_state=0).fit(Xtrain, ytrain)\n",
    "pred_y = clf.predict(Xtest)\n",
    "print(\"The clf score with Gradient boost  is\", clf.score(Xtest, ytest))\n",
    "print(\"Matrix of confusion: \\n\" + str(confusion_matrix(ytest, pred_y)))"
   ]
  },
  {
   "cell_type": "code",
   "execution_count": null,
   "metadata": {},
   "outputs": [],
   "source": []
  }
 ],
 "metadata": {
  "kernelspec": {
   "display_name": "Python (learn-env)",
   "language": "python",
   "name": "learn-env"
  },
  "language_info": {
   "codemirror_mode": {
    "name": "ipython",
    "version": 3
   },
   "file_extension": ".py",
   "mimetype": "text/x-python",
   "name": "python",
   "nbconvert_exporter": "python",
   "pygments_lexer": "ipython3",
   "version": "3.8.5"
  }
 },
 "nbformat": 4,
 "nbformat_minor": 2
}
